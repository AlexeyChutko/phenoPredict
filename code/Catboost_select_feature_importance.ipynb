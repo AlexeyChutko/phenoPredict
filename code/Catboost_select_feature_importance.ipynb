{
 "cells": [
  {
   "cell_type": "code",
   "execution_count": null,
   "id": "d6783033",
   "metadata": {},
   "outputs": [],
   "source": [
    "import pandas as pd\n",
    "from catboost import CatBoostClassifier\n",
    "from sklearn.model_selection import train_test_split\n",
    "import numpy as np"
   ]
  },
  {
   "cell_type": "code",
   "execution_count": 195,
   "id": "425d1bcf",
   "metadata": {},
   "outputs": [],
   "source": [
    "import resource\n",
    "\n",
    "memory_limit = 100 * 1024**3 # 100GB\n",
    "resource.setrlimit(resource.RLIMIT_AS, (memory_limit, memory_limit))"
   ]
  },
  {
   "cell_type": "code",
   "execution_count": null,
   "id": "a2e2322d",
   "metadata": {},
   "outputs": [],
   "source": [
    "df = pd.read_csv('data/separated_datasets/dataset_18.csv')\n",
    "groups = pd.read_csv('data/Heterotic_groups.csv')"
   ]
  },
  {
   "cell_type": "code",
   "execution_count": 198,
   "id": "8f8e9f52",
   "metadata": {},
   "outputs": [],
   "source": [
    "X = df\n",
    "y = groups"
   ]
  },
  {
   "cell_type": "code",
   "execution_count": null,
   "id": "e185a13e",
   "metadata": {},
   "outputs": [
    {
     "name": "stdout",
     "output_type": "stream",
     "text": [
      "0:\tlearn: 0.4173005\ttotal: 15s\tremaining: 24m 46s\n",
      "99:\tlearn: 0.9958739\ttotal: 25m 35s\tremaining: 0us\n"
     ]
    }
   ],
   "source": [
    "all_feature_importances = []\n",
    "significant_features = []\n",
    "total_features = X.shape[1]\n",
    "\n",
    "\n",
    "# Division into train/test\n",
    "X_train, X_test, y_train, y_test = train_test_split(X, y, test_size=0.2, random_state=42)\n",
    "\n",
    "# Initiate the model\n",
    "model = CatBoostClassifier(\n",
    "    iterations=100,\n",
    "    learning_rate=0.05,\n",
    "    depth=4,\n",
    "    l2_leaf_reg=10,\n",
    "    loss_function='MultiClass',\n",
    "    eval_metric='TotalF1',\n",
    "    cat_features=X.columns.tolist(),  \n",
    "    verbose=100,\n",
    "    random_seed=42,\n",
    "    early_stopping_rounds=20,\n",
    "    used_ram_limit='32gb',\n",
    "    thread_count=1,\n",
    "    bagging_temperature = 0.8)\n",
    "\n",
    "# Training\n",
    "model.fit(X_train, y_train)\n",
    "\n",
    "# Getting the importance of features\n",
    "importances = model.get_feature_importance(type='FeatureImportance')\n",
    "feature_series = pd.Series(importances, index=X.columns)\n",
    "all_feature_importances.append(feature_series)\n",
    "\n",
    "# Z-score normalization\n",
    "mean = feature_series.mean()\n",
    "std = feature_series.std()\n",
    "z_scores = (feature_series - mean) / std\n",
    "\n",
    "# Selection of features with |z| > 3\n",
    "passed = feature_series[np.abs(z_scores) > 3]\n",
    "if not passed.empty:\n",
    "    significant_features.append(passed)\n",
    "\n",
    "# Merging into a single DataFrame\n",
    "importances_df = pd.concat(all_feature_importances, axis=0)\n",
    "\n",
    "# Values that have passed the 3 sigma threshold\n",
    "if significant_features:\n",
    "    significant_features_df = pd.concat(significant_features, axis=0)\n",
    "else:\n",
    "    significant_features_df = pd.Series([], dtype=float)"
   ]
  },
  {
   "cell_type": "code",
   "execution_count": null,
   "id": "92bea80c",
   "metadata": {},
   "outputs": [],
   "source": [
    "# Create DataFrame with significant features\n",
    "significant_features_df = significant_features_df.reset_index()\n",
    "significant_features_df.columns = ['Feature', 'Importance']\n",
    "significant_features_df_sorted = significant_features_df.sort_values(by='Importance', ascending=False)"
   ]
  },
  {
   "cell_type": "code",
   "execution_count": 205,
   "id": "63ef2c8b",
   "metadata": {},
   "outputs": [],
   "source": [
    "significant_features_df_sorted.to_csv('/mnt/users/ib_2025/Corn_ML_project/data/importances/catboost_significant_importances_df18.csv', index=False)"
   ]
  }
 ],
 "metadata": {
  "kernelspec": {
   "display_name": "corn_catboost",
   "language": "python",
   "name": "python3"
  },
  "language_info": {
   "codemirror_mode": {
    "name": "ipython",
    "version": 3
   },
   "file_extension": ".py",
   "mimetype": "text/x-python",
   "name": "python",
   "nbconvert_exporter": "python",
   "pygments_lexer": "ipython3",
   "version": "3.9.21"
  }
 },
 "nbformat": 4,
 "nbformat_minor": 5
}
